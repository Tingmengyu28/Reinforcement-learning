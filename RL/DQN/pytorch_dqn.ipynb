{
 "cells": [
  {
   "cell_type": "code",
   "execution_count": 2,
   "metadata": {},
   "outputs": [],
   "source": [
    "import torch                                    \n",
    "import torch.nn as nn                         \n",
    "import torch.nn.functional as F  \n",
    "import numpy as np        \n",
    "import gym          \n",
    "import pygame\n",
    "import sys\n",
    "\n",
    "\n",
    "BATCH_SIZE = 32                                 \n",
    "LR = 0.01                                      \n",
    "EPSILON = 0.9                                 \n",
    "GAMMA = 0.9                                    \n",
    "TARGET_REPLACE_ITER = 100                     \n",
    "MEMORY_CAPACITY = 2000                      \n",
    "env = gym.make('CartPole-v1', render_mode=\"human\").unwrapped         \n",
    "N_ACTIONS = env.action_space.n                \n",
    "N_STATES = env.observation_space.shape[0]      "
   ]
  },
  {
   "cell_type": "code",
   "execution_count": 15,
   "metadata": {},
   "outputs": [],
   "source": [
    "class Net(nn.Module):\n",
    "    def __init__(self):                                                         \n",
    "        super(Net, self).__init__()                                             \n",
    "\n",
    "        self.fc1 = nn.Linear(N_STATES, 50)                                     \n",
    "        self.fc1.weight.data.normal_(0, 0.1)                                   \n",
    "        self.out = nn.Linear(50, N_ACTIONS)                                     \n",
    "        self.out.weight.data.normal_(0, 0.1)                                   \n",
    "\n",
    "    def forward(self, x):                                                      \n",
    "        x = F.relu(self.fc1(x))                                                 \n",
    "        actions_value = self.out(x)                                             \n",
    "        return actions_value                                                   \n",
    "\n",
    "\n",
    "class DQN(object):\n",
    "    def __init__(self):\n",
    "        self.eval_net, self.target_net = Net(), Net()\n",
    "        self.learn_step_counter = 0\n",
    "        self.memory_counter = 0\n",
    "        self.memory = np.zeros((MEMORY_CAPACITY, N_STATES * 2 + 2))\n",
    "        self.optimizer = torch.optim.Adam(\n",
    "            self.eval_net.parameters(), lr=LR)    # 使用Adam优化器 (输入为评估网络的参数和学习率)\n",
    "        self.loss_func = nn.MSELoss()\n",
    "\n",
    "    def choose_action(self, x):\n",
    "        x = torch.unsqueeze(torch.FloatTensor(x), 0)\n",
    "        if np.random.uniform() < EPSILON:\n",
    "            actions_value = self.eval_net.forward(x)\n",
    "            action = torch.max(actions_value, 1)[1].data.numpy()\n",
    "            action = action[0]\n",
    "        else:                                                                 \n",
    "            action = np.random.randint(0, N_ACTIONS)\n",
    "        return action\n",
    "\n",
    "    def store_transition(self, s, a, r, s_):\n",
    "        transition = np.hstack((s, [a, r], s_))\n",
    "        index = self.memory_counter % MEMORY_CAPACITY\n",
    "        self.memory[index, :] = transition\n",
    "        self.memory_counter += 1\n",
    "\n",
    "    # Start learning when store transition is full\n",
    "    def learn(self):\n",
    "        if self.learn_step_counter % TARGET_REPLACE_ITER == 0:                \n",
    "            self.target_net.load_state_dict(\n",
    "                self.eval_net.state_dict())         \n",
    "        self.learn_step_counter += 1                                           \n",
    "\n",
    "        sample_index = np.random.choice(MEMORY_CAPACITY, BATCH_SIZE)\n",
    "        b_memory = self.memory[sample_index, :]\n",
    "        b_s = torch.FloatTensor(b_memory[:, :N_STATES])\n",
    "        b_a = torch.LongTensor(b_memory[:, N_STATES:N_STATES+1].astype(int))\n",
    "        b_r = torch.FloatTensor(b_memory[:, N_STATES+1:N_STATES+2])\n",
    "        b_s_ = torch.FloatTensor(b_memory[:, -N_STATES:])\n",
    "\n",
    "        q_eval = self.eval_net(b_s).gather(1, b_a)\n",
    "        q_next = self.target_net(b_s_).detach()\n",
    "        q_target = b_r + GAMMA * q_next.max(1)[0].view(BATCH_SIZE, 1)\n",
    "        loss = self.loss_func(q_eval, q_target)\n",
    "        self.optimizer.zero_grad()                                    \n",
    "        loss.backward()\n",
    "        self.optimizer.step()  "
   ]
  },
  {
   "cell_type": "code",
   "execution_count": 33,
   "metadata": {},
   "outputs": [
    {
     "name": "stdout",
     "output_type": "stream",
     "text": [
      " Episode: 242, reward_sum: 104.87"
     ]
    },
    {
     "ename": "SystemExit",
     "evalue": "",
     "output_type": "error",
     "traceback": [
      "An exception has occurred, use %tb to see the full traceback.\n",
      "\u001b[1;31mSystemExit\u001b[0m\n"
     ]
    }
   ],
   "source": [
    "dqn = DQN()\n",
    "\n",
    "for i in range(400):        \n",
    "    start_learn = False\n",
    "    s = env.reset()[0]         \n",
    "    episode_reward_sum = 0\n",
    "\n",
    "    while True:\n",
    "        env.render()                                                   \n",
    "        a = dqn.choose_action(s)\n",
    "        s_, r, done, info, _ = env.step(a)\n",
    "        \n",
    "        # 修改奖励 (不修改也可以，修改奖励只是为了更快地得到训练好的摆杆)\n",
    "        x, x_dot, theta, theta_dot = s_\n",
    "        r1 = (env.x_threshold - abs(x)) / env.x_threshold - 0.8\n",
    "        r2 = (env.theta_threshold_radians - abs(theta)) / \\\n",
    "            env.theta_threshold_radians - 0.5\n",
    "        new_r = r1 + r2\n",
    "        dqn.store_transition(s, a, new_r, s_)      \n",
    "        episode_reward_sum += new_r\n",
    "\n",
    "        s = s_\n",
    "\n",
    "        if dqn.memory_counter > MEMORY_CAPACITY:              \n",
    "            start_learn = True\n",
    "            dqn.learn()\n",
    "\n",
    "        if done:       # 如果done为True\n",
    "            if start_learn:\n",
    "                print('\\r Episode: %s, reward_sum: %s' %\n",
    "                    (i, round(episode_reward_sum, 2)), end = \"\")\n",
    "                break\n",
    "            else:\n",
    "                print('\\r Episode: %s' % i, end = \"\")\n",
    "                break\n",
    "        \n",
    "        for event in pygame.event.get():\n",
    "            if event.type == pygame.QUIT:\n",
    "                pygame.quit()\n",
    "                env.close()\n",
    "                sys.exit()\n",
    "env.close()"
   ]
  }
 ],
 "metadata": {
  "kernelspec": {
   "display_name": "base",
   "language": "python",
   "name": "python3"
  },
  "language_info": {
   "codemirror_mode": {
    "name": "ipython",
    "version": 3
   },
   "file_extension": ".py",
   "mimetype": "text/x-python",
   "name": "python",
   "nbconvert_exporter": "python",
   "pygments_lexer": "ipython3",
   "version": "3.9.12"
  },
  "orig_nbformat": 4,
  "vscode": {
   "interpreter": {
    "hash": "88279d2366fe020547cde40dd65aa0e3aa662a6ec1f3ca12d88834876c85e1a6"
   }
  }
 },
 "nbformat": 4,
 "nbformat_minor": 2
}
