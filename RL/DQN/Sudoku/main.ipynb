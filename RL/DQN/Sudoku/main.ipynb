{
 "cells": [
  {
   "cell_type": "code",
   "execution_count": 1,
   "metadata": {},
   "outputs": [],
   "source": [
    "import numpy as np\n",
    "from tqdm import tqdm\n",
    "\n",
    "RESHAPE = (9, 9)"
   ]
  },
  {
   "cell_type": "code",
   "execution_count": 4,
   "metadata": {},
   "outputs": [
    {
     "name": "stderr",
     "output_type": "stream",
     "text": [
      "100000it [00:09, 10736.18it/s]\n"
     ]
    }
   ],
   "source": [
    "quizzes = np.zeros((100001, 81), np.int32)\n",
    "solutions = np.zeros((100001, 81), np.int32)\n",
    "for i, line in tqdm(enumerate(open('sudoku.csv', 'r').read().splitlines()[1:])):\n",
    "    quiz, solution = line.split(\",\")\n",
    "    for j, q_s in enumerate(zip(quiz, solution)):\n",
    "        q, s = q_s\n",
    "        quizzes[i, j] = q\n",
    "        solutions[i, j] = s\n",
    "    if i == 100000:\n",
    "        break\n",
    "# quizzes = quizzes.reshape((-1, 9, 9))\n",
    "# solutions = solutions.reshape((-1, 9, 9))"
   ]
  },
  {
   "cell_type": "code",
   "execution_count": 69,
   "metadata": {},
   "outputs": [],
   "source": [
    "def checkMostFreq(quiz):\n",
    "    quiz = list(quiz)\n",
    "    countDict = dict()\n",
    "    for i in range(1, 10):\n",
    "        countDict[i] = quiz.count(i)\n",
    "    max_count, max_id = 0, 0\n",
    "    for k,v in countDict.items():\n",
    "        if v > max_count:\n",
    "            max_id = k\n",
    "            max_count = v\n",
    "    return max_id\n",
    "\n",
    "def transformer(val):\n",
    "    return (val // 9, val % 9)\n",
    "\n",
    "def validLocations(quiz, id):\n",
    "    invalid_indeices, valid_locations = set(), []\n",
    "    for i in range(81):\n",
    "        if quiz[i] == id:\n",
    "            row, col = i // 9, i % 9\n",
    "            need_remove_row = set(range(row * 9, (row + 1) * 9))\n",
    "            need_remove_col = set(range(col, 73 + col, 9))\n",
    "            squ_row, squ_col = row // 3, col // 3\n",
    "            need_remove_squ = set(list(range(squ_row * 27 + squ_col * 3, squ_row * 27 + squ_col * 3 + 3)) \n",
    "            + list(range(squ_row * 27 + squ_col * 3 + 9, squ_row * 27 + squ_col * 3 + 12))\n",
    "            + list(range(squ_row * 27 + squ_col * 3 + 18, squ_row * 27 + squ_col * 3 + 21)))\n",
    "            invalid_indeices = invalid_indeices | need_remove_row | need_remove_col | need_remove_squ\n",
    "        elif quiz[i] != 0:\n",
    "            invalid_indeices.add(i)\n",
    "    valid_indeices = list(set(range(81)) - invalid_indeices)\n",
    "    for i in valid_indeices:\n",
    "        valid_locations.append(transformer(i))\n",
    "    return valid_locations"
   ]
  },
  {
   "cell_type": "code",
   "execution_count": 72,
   "metadata": {},
   "outputs": [
    {
     "name": "stdout",
     "output_type": "stream",
     "text": [
      "[[0 4 0 1 0 0 0 5 0]\n",
      " [1 0 7 0 0 3 9 6 0]\n",
      " [5 2 0 0 0 8 0 0 0]\n",
      " [0 0 0 0 0 0 0 1 7]\n",
      " [0 0 0 9 0 6 8 0 0]\n",
      " [8 0 3 0 5 0 6 2 0]\n",
      " [0 9 0 0 6 0 5 4 3]\n",
      " [6 0 0 0 8 0 7 0 0]\n",
      " [2 5 0 0 9 7 1 0 0]]\n"
     ]
    },
    {
     "data": {
      "text/plain": [
       "[(7, 3), (7, 5), (4, 2), (1, 3), (4, 8), (3, 2)]"
      ]
     },
     "execution_count": 72,
     "metadata": {},
     "output_type": "execute_result"
    }
   ],
   "source": [
    "quiz = quizzes[1]\n",
    "quiz_ = quiz.reshape(RESHAPE)\n",
    "print(quiz_)\n",
    "validLocations(quiz, 5)"
   ]
  }
 ],
 "metadata": {
  "kernelspec": {
   "display_name": "base",
   "language": "python",
   "name": "python3"
  },
  "language_info": {
   "codemirror_mode": {
    "name": "ipython",
    "version": 3
   },
   "file_extension": ".py",
   "mimetype": "text/x-python",
   "name": "python",
   "nbconvert_exporter": "python",
   "pygments_lexer": "ipython3",
   "version": "3.9.12"
  },
  "orig_nbformat": 4,
  "vscode": {
   "interpreter": {
    "hash": "88279d2366fe020547cde40dd65aa0e3aa662a6ec1f3ca12d88834876c85e1a6"
   }
  }
 },
 "nbformat": 4,
 "nbformat_minor": 2
}
